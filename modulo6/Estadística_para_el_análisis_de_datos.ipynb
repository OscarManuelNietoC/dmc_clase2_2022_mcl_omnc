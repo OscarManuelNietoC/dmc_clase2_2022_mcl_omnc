{
  "nbformat": 4,
  "nbformat_minor": 0,
  "metadata": {
    "colab": {
      "provenance": [],
      "include_colab_link": true
    },
    "kernelspec": {
      "name": "python3",
      "display_name": "Python 3"
    },
    "language_info": {
      "name": "python"
    }
  },
  "cells": [
    {
      "cell_type": "markdown",
      "metadata": {
        "id": "view-in-github",
        "colab_type": "text"
      },
      "source": [
        "<a href=\"https://colab.research.google.com/github/OscarManuelNietoC/dmc_clase2_2022_mcl_omnc/blob/main/modulo6/Estad%C3%ADstica_para_el_an%C3%A1lisis_de_datos.ipynb\" target=\"_parent\"><img src=\"https://colab.research.google.com/assets/colab-badge.svg\" alt=\"Open In Colab\"/></a>"
      ]
    },
    {
      "cell_type": "markdown",
      "source": [
        "<img src=\"https://www.ctic.uni.edu.pe/wp-content/uploads/2022/04/588px-x-348px-web-1.png\" alt=\"HTML5 Icon\" width=\"900\" height=\"350\" >"
      ],
      "metadata": {
        "id": "X5uZnS2MO0LM"
      }
    },
    {
      "cell_type": "markdown",
      "source": [
        "\n",
        "\n",
        "<h1 align=center><font size = 5>Taller de Estadística para el análisis de datos</font></h1>\n",
        "\n",
        "---"
      ],
      "metadata": {
        "id": "D_f3UpLu_-HV"
      }
    },
    {
      "cell_type": "markdown",
      "source": [
        "## Introducción\n"
      ],
      "metadata": {
        "id": "sUqlVtQkAKiT"
      }
    },
    {
      "cell_type": "markdown",
      "source": [
        "En este laboratorio, aprenderá a usar python para realizar limpieza de datos y feature engineering"
      ],
      "metadata": {
        "id": "Z4u9n4R6ANRq"
      }
    },
    {
      "cell_type": "markdown",
      "source": [
        "## 1. Descargar y analizar Dataset"
      ],
      "metadata": {
        "id": "D5EzcK3oASXc"
      }
    },
    {
      "cell_type": "markdown",
      "source": [
        "### Esta es la legendaria competencia Titanic ML\n"
      ],
      "metadata": {
        "id": "ynJwResaAWss"
      }
    },
    {
      "cell_type": "markdown",
      "source": [
        "\n",
        "\n",
        "El hundimiento del Titanic es uno de los naufragios más infames de la historia.\n",
        "\n",
        "El 15 de abril de 1912, durante su viaje inaugural, el RMS Titanic, ampliamente considerado \"insumergible\", se hundió tras chocar con un iceberg. Desafortunadamente, no había suficientes botes salvavidas para todos a bordo, lo que resultó en la muerte de 1502 de los 2224 pasajeros y la tripulación.\n",
        "\n",
        "Si bien hubo algún elemento de suerte involucrado en sobrevivir, parece que algunos grupos de personas tenían más probabilidades de sobrevivir que otros.\n",
        "\n",
        "En este desafío, le pedimos que cree un modelo predictivo que responda a la pregunta: \"¿Qué tipo de personas tenían más probabilidades de sobrevivir?\" utilizando datos de pasajeros (es decir, nombre, edad, sexo, clase socioeconómica, etc.)."
      ],
      "metadata": {
        "id": "Z5MrBjbOAYx7"
      }
    },
    {
      "cell_type": "markdown",
      "source": [
        "<img src=\"https://storage.googleapis.com/kaggle-media/welcome/video_thumbnail.jpg\" width=\"800\" \n",
        "     height=\"400\">\n",
        "<div style=\"text-align: center\">¿Qué tipo de personas tenían más probabilidades de sobrevivir? </div>"
      ],
      "metadata": {
        "id": "acQYFWr8AbUd"
      }
    },
    {
      "cell_type": "markdown",
      "source": [
        "\n",
        "<b>Descripción de datos</b>\n",
        "\n",
        "El data frame de Titanic tiene 891 filas y 12 columnas.\n",
        "\n",
        "<b>Este data frame contiene las siguientes columnas:</b>\n",
        "\n",
        "---\n",
        "\n",
        "* <b>Survival : </b>  Supervivencia (0 = No, 1 = Sí)\n",
        "* <b>Pclass : </b>  Ticket class (1 = 1st, 2 = 2nd, 3 = 3rd)\n",
        "* <b>Sex : </b>  Sexo \n",
        "* <b>Age : </b>  Edad en años\n",
        "* <b>Sibsp : </b>  # de hermanos / cónyuges a bordo del Titanic\n",
        "* <b>Parch : </b>  # de padres / hijos a bordo del Titanic\n",
        "\n",
        "* <b>Ticket : </b>  Número de ticket\n",
        "\n",
        "* <b>Fare : </b>  Tarifa de pasajero\n",
        "* <b>Cabin : </b>  Número de cabina\n",
        "* <b>Embarked : </b>  Puerto de embarque (C = Cherburgo, Q = Queenstown, S = Southampton)\n",
        "\n",
        "\n",
        "\n",
        "---\n",
        "\n",
        "\n",
        "<strong>Puede consultar este [link](https://www.kaggle.com/c/titanic/overview) para leer más sobre la fuente de datos Titanic.</strong>\n"
      ],
      "metadata": {
        "id": "BbrCaloCBpb3"
      }
    },
    {
      "cell_type": "code",
      "source": [
        "# Importando librerías\n",
        "\n",
        "import pandas as pd\n",
        "import numpy as np\n",
        "import seaborn as sns\n"
      ],
      "metadata": {
        "id": "FBwGSZJ1CHVb"
      },
      "execution_count": 2,
      "outputs": []
    },
    {
      "cell_type": "code",
      "execution_count": 3,
      "metadata": {
        "id": "HdRwCUPG_Iil"
      },
      "outputs": [],
      "source": [
        "# leer la data desde una archivo csv\n",
        "titanic = pd.read_csv('train_titanic.csv', delimiter = \",\")\n"
      ]
    },
    {
      "cell_type": "code",
      "source": [
        "# Visualizar parte de la tabla \n",
        "titanic.head(10)"
      ],
      "metadata": {
        "id": "txIt6b20B1xZ"
      },
      "execution_count": null,
      "outputs": []
    },
    {
      "cell_type": "code",
      "source": [
        "titanic.dtypes"
      ],
      "metadata": {
        "id": "U7QrayPSDMnn"
      },
      "execution_count": null,
      "outputs": []
    },
    {
      "cell_type": "code",
      "source": [
        "titanic.Age"
      ],
      "metadata": {
        "id": "HqXu-jY5CeZb"
      },
      "execution_count": null,
      "outputs": []
    },
    {
      "cell_type": "markdown",
      "source": [
        "### Promedio"
      ],
      "metadata": {
        "id": "Y1ciq5uVDX8Z"
      }
    },
    {
      "cell_type": "code",
      "source": [
        "titanic.Age.sum()/titanic.Age.count()\n"
      ],
      "metadata": {
        "id": "hfSy_7G1CjMO"
      },
      "execution_count": null,
      "outputs": []
    },
    {
      "cell_type": "code",
      "source": [
        "titanic.Age.mean()\n"
      ],
      "metadata": {
        "id": "7g7jANnZCnBs"
      },
      "execution_count": null,
      "outputs": []
    },
    {
      "cell_type": "code",
      "source": [
        "valores = np.array([12, 15.5, 18, 190])\n",
        "valores.mean()\n"
      ],
      "metadata": {
        "id": "xcPnXD4Cayr8"
      },
      "execution_count": null,
      "outputs": []
    },
    {
      "cell_type": "markdown",
      "source": [
        "### Promedio ponderado"
      ],
      "metadata": {
        "id": "fzWQUaxVZTCK"
      }
    },
    {
      "cell_type": "code",
      "source": [
        "valores = np.array([12, 15.5, 18])\n",
        "ponderacion = np.array([2, 1, 3])\n",
        "\n",
        "valores_ponderados = valores*ponderacion\n",
        "valores_ponderados.sum()/ponderacion.sum()\n",
        "\n"
      ],
      "metadata": {
        "id": "-TOWafR7ZQQC"
      },
      "execution_count": null,
      "outputs": []
    },
    {
      "cell_type": "code",
      "source": [
        "valores.mean()"
      ],
      "metadata": {
        "id": "g6I-GgNJaarw"
      },
      "execution_count": null,
      "outputs": []
    },
    {
      "cell_type": "markdown",
      "source": [
        "### Mediana"
      ],
      "metadata": {
        "id": "8CcOQmM6DbYL"
      }
    },
    {
      "cell_type": "code",
      "source": [
        "titanic.Age.median()"
      ],
      "metadata": {
        "id": "43vc-JQODdE2"
      },
      "execution_count": null,
      "outputs": []
    },
    {
      "cell_type": "code",
      "source": [
        "valores = np.array([12, 15.5, 18, 190])\n",
        "np.median(valores, axis=0)"
      ],
      "metadata": {
        "id": "tOunaRW4cMeF"
      },
      "execution_count": null,
      "outputs": []
    },
    {
      "cell_type": "markdown",
      "source": [
        "### Desviación estándar"
      ],
      "metadata": {
        "id": "tyWGh9Y4DdmQ"
      }
    },
    {
      "cell_type": "code",
      "source": [
        "titanic.Age.std()"
      ],
      "metadata": {
        "id": "eqPfPEaRCqrT"
      },
      "execution_count": null,
      "outputs": []
    },
    {
      "cell_type": "markdown",
      "source": [
        "### Percentiles"
      ],
      "metadata": {
        "id": "95GwhoN8MJfk"
      }
    },
    {
      "cell_type": "code",
      "source": [
        "arry = np.array(titanic.Age.dropna())\n"
      ],
      "metadata": {
        "id": "FcAtEouoOnBp"
      },
      "execution_count": null,
      "outputs": []
    },
    {
      "cell_type": "code",
      "source": [
        "percentile = np.percentile(arry, 50)\n",
        "percentile"
      ],
      "metadata": {
        "id": "pd2TsdwpMx3r"
      },
      "execution_count": null,
      "outputs": []
    },
    {
      "cell_type": "code",
      "source": [
        "np.percentile(arry, 25)"
      ],
      "metadata": {
        "id": "9aj8g4yXPAuA"
      },
      "execution_count": null,
      "outputs": []
    },
    {
      "cell_type": "code",
      "source": [
        "np.percentile(arry, 75)"
      ],
      "metadata": {
        "id": "zyI39Tc0PFE4"
      },
      "execution_count": null,
      "outputs": []
    },
    {
      "cell_type": "markdown",
      "source": [
        "### varianza"
      ],
      "metadata": {
        "id": "Oa7D0YASmxkE"
      }
    },
    {
      "cell_type": "code",
      "source": [
        "valores = np.array(titanic.Age.dropna())\n",
        "np.var(valores, axis=0)"
      ],
      "metadata": {
        "id": "0nX1YItFmt_O"
      },
      "execution_count": null,
      "outputs": []
    },
    {
      "cell_type": "code",
      "source": [
        "np.std(valores, axis=0)"
      ],
      "metadata": {
        "id": "OxrmhRNcnY_6"
      },
      "execution_count": null,
      "outputs": []
    },
    {
      "cell_type": "markdown",
      "source": [
        "### Rango Intercuartilico"
      ],
      "metadata": {
        "id": "TxHJMn7un4BU"
      }
    },
    {
      "cell_type": "code",
      "source": [
        "RIC = np.percentile(arry, 75) - np.percentile(arry, 25)\n",
        "RIC"
      ],
      "metadata": {
        "id": "wP5BblqFn25J"
      },
      "execution_count": null,
      "outputs": []
    },
    {
      "cell_type": "markdown",
      "source": [
        "### Coeficiente de variación"
      ],
      "metadata": {
        "id": "7ggbY2b7oR9V"
      }
    },
    {
      "cell_type": "code",
      "source": [
        "cv_age = np.std(valores, axis=0)/np.mean(valores, axis=0)\n",
        "cv_age"
      ],
      "metadata": {
        "id": "chJsvvl1oV8u"
      },
      "execution_count": null,
      "outputs": []
    },
    {
      "cell_type": "code",
      "source": [
        "cv_fare = np.std(np.array(titanic.Fare.dropna()), axis=0)/np.mean(np.array(titanic.Fare.dropna()), axis=0)\n",
        "cv_fare"
      ],
      "metadata": {
        "id": "2gkVBM0loRl-"
      },
      "execution_count": null,
      "outputs": []
    },
    {
      "cell_type": "markdown",
      "source": [
        "### Diagramas de caja"
      ],
      "metadata": {
        "id": "rT6QylFwP2-Q"
      }
    },
    {
      "cell_type": "code",
      "source": [
        "sns.set_palette('pastel')\n",
        "sns.boxplot(y = titanic[\"Fare\"])"
      ],
      "metadata": {
        "id": "dhynMiwiP7z-",
        "outputId": "2a05d8b6-e39e-4fb4-e60e-c968156e231c",
        "colab": {
          "base_uri": "https://localhost:8080/",
          "height": 269
        }
      },
      "execution_count": 5,
      "outputs": [
        {
          "output_type": "execute_result",
          "data": {
            "text/plain": [
              "<matplotlib.axes._subplots.AxesSubplot at 0x7feeea322910>"
            ]
          },
          "metadata": {},
          "execution_count": 5
        },
        {
          "output_type": "display_data",
          "data": {
            "text/plain": [
              "<Figure size 432x288 with 1 Axes>"
            ],
            "image/png": "[encoded data removed]"
          },
          "metadata": {
            "needs_background": "light"
          }
        }
      ]
    },
    {
      "cell_type": "code",
      "source": [
        "sns.set_palette('pastel')\n",
        "sns.boxplot(y = titanic[\"Age\"])"
      ],
      "metadata": {
        "id": "34Eo_q7UP2IH",
        "outputId": "069e8ad9-8d22-418e-c933-7201a681cd40",
        "colab": {
          "base_uri": "https://localhost:8080/",
          "height": 269
        }
      },
      "execution_count": 6,
      "outputs": [
        {
          "output_type": "execute_result",
          "data": {
            "text/plain": [
              "<matplotlib.axes._subplots.AxesSubplot at 0x7feee9802350>"
            ]
          },
          "metadata": {},
          "execution_count": 6
        },
        {
          "output_type": "display_data",
          "data": {
            "text/plain": [
              "<Figure size 432x288 with 1 Axes>"
            ],
            "image/png": "[encoded data removed]"
          },
          "metadata": {
            "needs_background": "light"
          }
        }
      ]
    },
    {
      "cell_type": "code",
      "source": [
        "array = np.array(titanic.Age.dropna())\n",
        "Q3 = np.percentile(array,75)\n",
        "Q1 = np.percentile(array,25)\n",
        "RIC = np.percentile(array,75) - np.percentile(array,25)\n",
        "\n",
        "ls = Q3 + 1.5*RIC\n",
        "li = Q1 - 1.5*RIC\n",
        "\n",
        "titanic['Age_t'] = titanic.Age.apply(lambda x: ls if x > ls\n",
        "                                     else li if x < li\n",
        "                                     else x)\n",
        "\n",
        "sns.boxplot(y = titanic[\"Age_t\"])"
      ],
      "metadata": {
        "id": "Nfh9tW1rAfVF",
        "outputId": "9b248fc4-f87b-47a5-86d7-f7c0715a7f28",
        "colab": {
          "base_uri": "https://localhost:8080/",
          "height": 269
        }
      },
      "execution_count": 7,
      "outputs": [
        {
          "output_type": "execute_result",
          "data": {
            "text/plain": [
              "<matplotlib.axes._subplots.AxesSubplot at 0x7feee8f3cc50>"
            ]
          },
          "metadata": {},
          "execution_count": 7
        },
        {
          "output_type": "display_data",
          "data": {
            "text/plain": [
              "<Figure size 432x288 with 1 Axes>"
            ],
            "image/png": "[encoded data removed]"
          },
          "metadata": {
            "needs_background": "light"
          }
        }
      ]
    },
    {
      "cell_type": "code",
      "source": [
        "titanic['Age'].hist(bins=20)"
      ],
      "metadata": {
        "id": "551sOKGwFa87",
        "outputId": "0d7476ab-c459-4bfd-e310-2befb99f4489",
        "colab": {
          "base_uri": "https://localhost:8080/",
          "height": 282
        }
      },
      "execution_count": 8,
      "outputs": [
        {
          "output_type": "execute_result",
          "data": {
            "text/plain": [
              "<matplotlib.axes._subplots.AxesSubplot at 0x7feee6e867d0>"
            ]
          },
          "metadata": {},
          "execution_count": 8
        },
        {
          "output_type": "display_data",
          "data": {
            "text/plain": [
              "<Figure size 432x288 with 1 Axes>"
            ],
            "image/png": "[encoded data removed]"
          },
          "metadata": {
            "needs_background": "light"
          }
        }
      ]
    },
    {
      "cell_type": "code",
      "source": [
        "titanic['Age_t'].hist(bins=20)"
      ],
      "metadata": {
        "id": "SEFHwrS-FkOC",
        "outputId": "fcaf7047-eb9c-4b6b-a85c-a01db019ddb7",
        "colab": {
          "base_uri": "https://localhost:8080/",
          "height": 282
        }
      },
      "execution_count": 9,
      "outputs": [
        {
          "output_type": "execute_result",
          "data": {
            "text/plain": [
              "<matplotlib.axes._subplots.AxesSubplot at 0x7feee6dacc90>"
            ]
          },
          "metadata": {},
          "execution_count": 9
        },
        {
          "output_type": "display_data",
          "data": {
            "text/plain": [
              "<Figure size 432x288 with 1 Axes>"
            ],
            "image/png": "[encoded data removed]"
          },
          "metadata": {
            "needs_background": "light"
          }
        }
      ]
    },
    {
      "cell_type": "markdown",
      "source": [
        "### Identificación de Outliers por Rango Intercuantilico"
      ],
      "metadata": {
        "id": "sYphv26YPvOo"
      }
    },
    {
      "cell_type": "markdown",
      "source": [
        "<img src=\"https://miro.medium.com/max/1400/1*2c21SkzJMf3frPXPAR_gZA.png\" width=\"500\" \n",
        "     height=\"300\" > "
      ],
      "metadata": {
        "id": "VHnC-E5NPzW2"
      }
    },
    {
      "cell_type": "code",
      "source": [
        "# Estadisticos básicos de la tabla\n",
        "titanic.describe().transpose()"
      ],
      "metadata": {
        "id": "y2j5oRAtB5tw",
        "outputId": "ecde9a07-f3de-45bb-e891-9fedf75c122e",
        "colab": {
          "base_uri": "https://localhost:8080/",
          "height": 269
        }
      },
      "execution_count": 4,
      "outputs": [
        {
          "output_type": "execute_result",
          "data": {
            "text/plain": [
              "             count        mean         std   min       25%       50%    75%  \\\n",
              "PassengerId  891.0  446.000000  257.353842  1.00  223.5000  446.0000  668.5   \n",
              "Survived     891.0    0.383838    0.486592  0.00    0.0000    0.0000    1.0   \n",
              "Pclass       891.0    2.308642    0.836071  1.00    2.0000    3.0000    3.0   \n",
              "Age          714.0   29.699118   14.526497  0.42   20.1250   28.0000   38.0   \n",
              "SibSp        891.0    0.523008    1.102743  0.00    0.0000    0.0000    1.0   \n",
              "Parch        891.0    0.381594    0.806057  0.00    0.0000    0.0000    0.0   \n",
              "Fare         891.0   32.204208   49.693429  0.00    7.9104   14.4542   31.0   \n",
              "\n",
              "                  max  \n",
              "PassengerId  891.0000  \n",
              "Survived       1.0000  \n",
              "Pclass         3.0000  \n",
              "Age           80.0000  \n",
              "SibSp          8.0000  \n",
              "Parch          6.0000  \n",
              "Fare         512.3292  "
            ],
            "text/html": [
              "\n",
              "  <div id=\"df-c4d76e3b-6246-4968-9798-a5f3357db358\">\n",
              "    <div class=\"colab-df-container\">\n",
              "      <div>\n",
              "<style scoped>\n",
              "    .dataframe tbody tr th:only-of-type {\n",
              "        vertical-align: middle;\n",
              "    }\n",
              "\n",
              "    .dataframe tbody tr th {\n",
              "        vertical-align: top;\n",
              "    }\n",
              "\n",
              "    .dataframe thead th {\n",
              "        text-align: right;\n",
              "    }\n",
              "</style>\n",
              "<table border=\"1\" class=\"dataframe\">\n",
              "  <thead>\n",
              "    <tr style=\"text-align: right;\">\n",
              "      <th></th>\n",
              "      <th>count</th>\n",
              "      <th>mean</th>\n",
              "      <th>std</th>\n",
              "      <th>min</th>\n",
              "      <th>25%</th>\n",
              "      <th>50%</th>\n",
              "      <th>75%</th>\n",
              "      <th>max</th>\n",
              "    </tr>\n",
              "  </thead>\n",
              "  <tbody>\n",
              "    <tr>\n",
              "      <th>PassengerId</th>\n",
              "      <td>891.0</td>\n",
              "      <td>446.000000</td>\n",
              "      <td>257.353842</td>\n",
              "      <td>1.00</td>\n",
              "      <td>223.5000</td>\n",
              "      <td>446.0000</td>\n",
              "      <td>668.5</td>\n",
              "      <td>891.0000</td>\n",
              "    </tr>\n",
              "    <tr>\n",
              "      <th>Survived</th>\n",
              "      <td>891.0</td>\n",
              "      <td>0.383838</td>\n",
              "      <td>0.486592</td>\n",
              "      <td>0.00</td>\n",
              "      <td>0.0000</td>\n",
              "      <td>0.0000</td>\n",
              "      <td>1.0</td>\n",
              "      <td>1.0000</td>\n",
              "    </tr>\n",
              "    <tr>\n",
              "      <th>Pclass</th>\n",
              "      <td>891.0</td>\n",
              "      <td>2.308642</td>\n",
              "      <td>0.836071</td>\n",
              "      <td>1.00</td>\n",
              "      <td>2.0000</td>\n",
              "      <td>3.0000</td>\n",
              "      <td>3.0</td>\n",
              "      <td>3.0000</td>\n",
              "    </tr>\n",
              "    <tr>\n",
              "      <th>Age</th>\n",
              "      <td>714.0</td>\n",
              "      <td>29.699118</td>\n",
              "      <td>14.526497</td>\n",
              "      <td>0.42</td>\n",
              "      <td>20.1250</td>\n",
              "      <td>28.0000</td>\n",
              "      <td>38.0</td>\n",
              "      <td>80.0000</td>\n",
              "    </tr>\n",
              "    <tr>\n",
              "      <th>SibSp</th>\n",
              "      <td>891.0</td>\n",
              "      <td>0.523008</td>\n",
              "      <td>1.102743</td>\n",
              "      <td>0.00</td>\n",
              "      <td>0.0000</td>\n",
              "      <td>0.0000</td>\n",
              "      <td>1.0</td>\n",
              "      <td>8.0000</td>\n",
              "    </tr>\n",
              "    <tr>\n",
              "      <th>Parch</th>\n",
              "      <td>891.0</td>\n",
              "      <td>0.381594</td>\n",
              "      <td>0.806057</td>\n",
              "      <td>0.00</td>\n",
              "      <td>0.0000</td>\n",
              "      <td>0.0000</td>\n",
              "      <td>0.0</td>\n",
              "      <td>6.0000</td>\n",
              "    </tr>\n",
              "    <tr>\n",
              "      <th>Fare</th>\n",
              "      <td>891.0</td>\n",
              "      <td>32.204208</td>\n",
              "      <td>49.693429</td>\n",
              "      <td>0.00</td>\n",
              "      <td>7.9104</td>\n",
              "      <td>14.4542</td>\n",
              "      <td>31.0</td>\n",
              "      <td>512.3292</td>\n",
              "    </tr>\n",
              "  </tbody>\n",
              "</table>\n",
              "</div>\n",
              "      <button class=\"colab-df-convert\" onclick=\"convertToInteractive('df-c4d76e3b-6246-4968-9798-a5f3357db358')\"\n",
              "              title=\"Convert this dataframe to an interactive table.\"\n",
              "              style=\"display:none;\">\n",
              "        \n",
              "  <svg xmlns=\"http://www.w3.org/2000/svg\" height=\"24px\"viewBox=\"0 0 24 24\"\n",
              "       width=\"24px\">\n",
              "    <path d=\"M0 0h24v24H0V0z\" fill=\"none\"/>\n",
              "    <path d=\"M18.56 5.44l.94 2.06.94-2.06 2.06-.94-2.06-.94-.94-2.06-.94 2.06-2.06.94zm-11 1L8.5 8.5l.94-2.06 2.06-.94-2.06-.94L8.5 2.5l-.94 2.06-2.06.94zm10 10l.94 2.06.94-2.06 2.06-.94-2.06-.94-.94-2.06-.94 2.06-2.06.94z\"/><path d=\"M17.41 7.96l-1.37-1.37c-.4-.4-.92-.59-1.43-.59-.52 0-1.04.2-1.43.59L10.3 9.45l-7.72 7.72c-.78.78-.78 2.05 0 2.83L4 21.41c.39.39.9.59 1.41.59.51 0 1.02-.2 1.41-.59l7.78-7.78 2.81-2.81c.8-.78.8-2.07 0-2.86zM5.41 20L4 18.59l7.72-7.72 1.47 1.35L5.41 20z\"/>\n",
              "  </svg>\n",
              "      </button>\n",
              "      \n",
              "  <style>\n",
              "    .colab-df-container {\n",
              "      display:flex;\n",
              "      flex-wrap:wrap;\n",
              "      gap: 12px;\n",
              "    }\n",
              "\n",
              "    .colab-df-convert {\n",
              "      background-color: #E8F0FE;\n",
              "      border: none;\n",
              "      border-radius: 50%;\n",
              "      cursor: pointer;\n",
              "      display: none;\n",
              "      fill: #1967D2;\n",
              "      height: 32px;\n",
              "      padding: 0 0 0 0;\n",
              "      width: 32px;\n",
              "    }\n",
              "\n",
              "    .colab-df-convert:hover {\n",
              "      background-color: #E2EBFA;\n",
              "      box-shadow: 0px 1px 2px rgba(60, 64, 67, 0.3), 0px 1px 3px 1px rgba(60, 64, 67, 0.15);\n",
              "      fill: #174EA6;\n",
              "    }\n",
              "\n",
              "    [theme=dark] .colab-df-convert {\n",
              "      background-color: #3B4455;\n",
              "      fill: #D2E3FC;\n",
              "    }\n",
              "\n",
              "    [theme=dark] .colab-df-convert:hover {\n",
              "      background-color: #434B5C;\n",
              "      box-shadow: 0px 1px 3px 1px rgba(0, 0, 0, 0.15);\n",
              "      filter: drop-shadow(0px 1px 2px rgba(0, 0, 0, 0.3));\n",
              "      fill: #FFFFFF;\n",
              "    }\n",
              "  </style>\n",
              "\n",
              "      <script>\n",
              "        const buttonEl =\n",
              "          document.querySelector('#df-c4d76e3b-6246-4968-9798-a5f3357db358 button.colab-df-convert');\n",
              "        buttonEl.style.display =\n",
              "          google.colab.kernel.accessAllowed ? 'block' : 'none';\n",
              "\n",
              "        async function convertToInteractive(key) {\n",
              "          const element = document.querySelector('#df-c4d76e3b-6246-4968-9798-a5f3357db358');\n",
              "          const dataTable =\n",
              "            await google.colab.kernel.invokeFunction('convertToInteractive',\n",
              "                                                     [key], {});\n",
              "          if (!dataTable) return;\n",
              "\n",
              "          const docLinkHtml = 'Like what you see? Visit the ' +\n",
              "            '<a target=\"_blank\" href=https://colab.research.google.com/notebooks/data_table.ipynb>data table notebook</a>'\n",
              "            + ' to learn more about interactive tables.';\n",
              "          element.innerHTML = '';\n",
              "          dataTable['output_type'] = 'display_data';\n",
              "          await google.colab.output.renderOutput(dataTable, element);\n",
              "          const docLink = document.createElement('div');\n",
              "          docLink.innerHTML = docLinkHtml;\n",
              "          element.appendChild(docLink);\n",
              "        }\n",
              "      </script>\n",
              "    </div>\n",
              "  </div>\n",
              "  "
            ]
          },
          "metadata": {},
          "execution_count": 4
        }
      ]
    },
    {
      "cell_type": "markdown",
      "source": [
        "### Diagrama de distribución"
      ],
      "metadata": {
        "id": "I8z0-17iQjlJ"
      }
    },
    {
      "cell_type": "code",
      "source": [
        "# Histograma en seaborn\n",
        "sns.set_style('darkgrid')\n",
        "sns.set_palette('winter')\n",
        "\n",
        "sns.displot(titanic, x = 'Age', bins=10, kde=True)"
      ],
      "metadata": {
        "id": "CkeC7ZrwQmzJ"
      },
      "execution_count": null,
      "outputs": []
    },
    {
      "cell_type": "code",
      "source": [
        "# Histograma en seaborn\n",
        "sns.set_style('darkgrid')\n",
        "sns.set_palette('winter')\n",
        "\n",
        "sns.displot(titanic, x = 'Fare', bins=10, kde=True)"
      ],
      "metadata": {
        "id": "GF5EyC1grpQh"
      },
      "execution_count": null,
      "outputs": []
    },
    {
      "cell_type": "code",
      "source": [
        "arry = np.array(titanic.Fare.dropna())\n",
        "Q3 = np.percentile(arry, 75)\n",
        "Q1 = np.percentile(arry, 25)\n",
        "\n",
        "Q3 + 1.5*(Q3 - Q1)"
      ],
      "metadata": {
        "id": "VnibJR-Tr0Cr"
      },
      "execution_count": null,
      "outputs": []
    },
    {
      "cell_type": "code",
      "source": [
        "# Histograma en seaborn\n",
        "sns.set_style('darkgrid')\n",
        "sns.set_palette('winter')\n",
        "\n",
        "sns.displot(titanic.loc[titanic.Fare < 65.6244], x = 'Fare', bins=10, kde=True)"
      ],
      "metadata": {
        "id": "cquC2TAfsa3d"
      },
      "execution_count": null,
      "outputs": []
    },
    {
      "cell_type": "code",
      "source": [
        "sns.set_style('darkgrid')\n",
        "sns.set_palette('winter')\n",
        "\n",
        "sns.boxplot(titanic.loc[titanic.Fare < 65.6244].Fare)"
      ],
      "metadata": {
        "id": "aX4RZemvsnJa"
      },
      "execution_count": null,
      "outputs": []
    }
  ]
}